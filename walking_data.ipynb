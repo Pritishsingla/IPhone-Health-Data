{
 "cells": [
  {
   "cell_type": "markdown",
   "metadata": {},
   "source": [
    "# Analysing Iphone Health Data"
   ]
  },
  {
   "cell_type": "markdown",
   "metadata": {},
   "source": [
    "## Exporting Data"
   ]
  },
  {
   "cell_type": "markdown",
   "metadata": {},
   "source": [
    "Follow the steps given below to extract the health data out of your Iphone:\n",
    "1. Open Health App in your IPhone\n",
    "2. Go to Profile (in the top right corner)\n",
    "3. Tap on 'Export Health Data'\n",
    "4. Choose Export in the confirmation popup\n",
    "5. Export the data to your drive or mail or any of the options suitable to you. You need to get the file to your computer"
   ]
  },
  {
   "cell_type": "markdown",
   "metadata": {},
   "source": [
    "## Converting Data into usable format"
   ]
  },
  {
   "cell_type": "markdown",
   "metadata": {},
   "source": [
    "You will seee that the file extracted is a .zip file. Follow the steps below to convert it to excel format:\n",
    "1. Extract the zipped file using Winzip or any similar tool\n",
    "2. Go to  https://conversiontools.io/conversion/convert_xml_to_excel and upload the \"export.xml\" file.\n",
    "3. Click on Convert\n",
    "4. Download and save the file as \"export.xlsx\" in the same directory as this notebook\n",
    "\n",
    "Your data is ready now."
   ]
  },
  {
   "cell_type": "markdown",
   "metadata": {},
   "source": [
    "## Code "
   ]
  },
  {
   "cell_type": "code",
   "execution_count": 24,
   "metadata": {
    "collapsed": true
   },
   "outputs": [],
   "source": [
    "import pandas as pd\n",
    "import numpy as np\n",
    "import matplotlib.pyplot as plt\n",
    "%matplotlib inline\n",
    "plt.style.use('ggplot')"
   ]
  },
  {
   "cell_type": "code",
   "execution_count": 2,
   "metadata": {
    "collapsed": false
   },
   "outputs": [
    {
     "data": {
      "text/html": [
       "<div>\n",
       "<table border=\"1\" class=\"dataframe\">\n",
       "  <thead>\n",
       "    <tr style=\"text-align: right;\">\n",
       "      <th></th>\n",
       "      <th>HealthData</th>\n",
       "      <th>locale</th>\n",
       "      <th>ExportDate</th>\n",
       "      <th>value</th>\n",
       "      <th>Me</th>\n",
       "      <th>HKCharacteristicTypeIdentifierDateOfBirth</th>\n",
       "      <th>HKCharacteristicTypeIdentifierBiologicalSex</th>\n",
       "      <th>HKCharacteristicTypeIdentifierBloodType</th>\n",
       "      <th>HKCharacteristicTypeIdentifierFitzpatrickSkinType</th>\n",
       "      <th>Record</th>\n",
       "      <th>...</th>\n",
       "      <th>sourceVersion</th>\n",
       "      <th>unit</th>\n",
       "      <th>creationDate</th>\n",
       "      <th>startDate</th>\n",
       "      <th>endDate</th>\n",
       "      <th>value.1</th>\n",
       "      <th>MetadataEntry</th>\n",
       "      <th>key</th>\n",
       "      <th>value.2</th>\n",
       "      <th>device</th>\n",
       "    </tr>\n",
       "  </thead>\n",
       "  <tbody>\n",
       "    <tr>\n",
       "      <th>2659</th>\n",
       "      <td>NaN</td>\n",
       "      <td>NaN</td>\n",
       "      <td>NaN</td>\n",
       "      <td>NaN</td>\n",
       "      <td>NaN</td>\n",
       "      <td>NaN</td>\n",
       "      <td>NaN</td>\n",
       "      <td>NaN</td>\n",
       "      <td>NaN</td>\n",
       "      <td>NaN</td>\n",
       "      <td>...</td>\n",
       "      <td>11.4</td>\n",
       "      <td>NaN</td>\n",
       "      <td>2018-07-24 21:00:24 +0530</td>\n",
       "      <td>2018-07-24 03:00:00 +0530</td>\n",
       "      <td>2018-07-24 10:24:00 +0530</td>\n",
       "      <td>HKCategoryValueSleepAnalysisInBed</td>\n",
       "      <td>NaN</td>\n",
       "      <td>HKWasUserEntered</td>\n",
       "      <td>1</td>\n",
       "      <td>NaN</td>\n",
       "    </tr>\n",
       "    <tr>\n",
       "      <th>2660</th>\n",
       "      <td>NaN</td>\n",
       "      <td>NaN</td>\n",
       "      <td>NaN</td>\n",
       "      <td>NaN</td>\n",
       "      <td>NaN</td>\n",
       "      <td>NaN</td>\n",
       "      <td>NaN</td>\n",
       "      <td>NaN</td>\n",
       "      <td>NaN</td>\n",
       "      <td>NaN</td>\n",
       "      <td>...</td>\n",
       "      <td>50</td>\n",
       "      <td>NaN</td>\n",
       "      <td>2018-07-25 10:00:38 +0530</td>\n",
       "      <td>2018-07-25 03:08:40 +0530</td>\n",
       "      <td>2018-07-25 09:35:00 +0530</td>\n",
       "      <td>HKCategoryValueSleepAnalysisInBed</td>\n",
       "      <td>NaN</td>\n",
       "      <td>HKTimeZone</td>\n",
       "      <td>Asia/Kolkata</td>\n",
       "      <td>&lt;&lt;HKDevice: 0x1c4688f70&gt;, name:iPhone, manufac...</td>\n",
       "    </tr>\n",
       "    <tr>\n",
       "      <th>2661</th>\n",
       "      <td>NaN</td>\n",
       "      <td>NaN</td>\n",
       "      <td>NaN</td>\n",
       "      <td>NaN</td>\n",
       "      <td>NaN</td>\n",
       "      <td>NaN</td>\n",
       "      <td>NaN</td>\n",
       "      <td>NaN</td>\n",
       "      <td>NaN</td>\n",
       "      <td>NaN</td>\n",
       "      <td>...</td>\n",
       "      <td>50</td>\n",
       "      <td>NaN</td>\n",
       "      <td>2018-07-25 10:00:38 +0530</td>\n",
       "      <td>2018-07-25 09:35:32 +0530</td>\n",
       "      <td>2018-07-25 10:00:32 +0530</td>\n",
       "      <td>HKCategoryValueSleepAnalysisInBed</td>\n",
       "      <td>NaN</td>\n",
       "      <td>HKTimeZone</td>\n",
       "      <td>Asia/Kolkata</td>\n",
       "      <td>&lt;&lt;HKDevice: 0x1c46892e0&gt;, name:iPhone, manufac...</td>\n",
       "    </tr>\n",
       "    <tr>\n",
       "      <th>2662</th>\n",
       "      <td>NaN</td>\n",
       "      <td>NaN</td>\n",
       "      <td>NaN</td>\n",
       "      <td>NaN</td>\n",
       "      <td>NaN</td>\n",
       "      <td>NaN</td>\n",
       "      <td>NaN</td>\n",
       "      <td>NaN</td>\n",
       "      <td>NaN</td>\n",
       "      <td>NaN</td>\n",
       "      <td>...</td>\n",
       "      <td>50</td>\n",
       "      <td>NaN</td>\n",
       "      <td>2018-07-26 10:14:05 +0530</td>\n",
       "      <td>2018-07-26 02:05:32 +0530</td>\n",
       "      <td>2018-07-26 10:14:05 +0530</td>\n",
       "      <td>HKCategoryValueSleepAnalysisInBed</td>\n",
       "      <td>NaN</td>\n",
       "      <td>HKTimeZone</td>\n",
       "      <td>Asia/Kolkata</td>\n",
       "      <td>&lt;&lt;HKDevice: 0x1c4689100&gt;, name:iPhone, manufac...</td>\n",
       "    </tr>\n",
       "    <tr>\n",
       "      <th>2663</th>\n",
       "      <td>NaN</td>\n",
       "      <td>NaN</td>\n",
       "      <td>NaN</td>\n",
       "      <td>NaN</td>\n",
       "      <td>NaN</td>\n",
       "      <td>NaN</td>\n",
       "      <td>NaN</td>\n",
       "      <td>NaN</td>\n",
       "      <td>NaN</td>\n",
       "      <td>NaN</td>\n",
       "      <td>...</td>\n",
       "      <td>50</td>\n",
       "      <td>NaN</td>\n",
       "      <td>2018-07-27 09:45:08 +0530</td>\n",
       "      <td>2018-07-27 01:30:00 +0530</td>\n",
       "      <td>2018-07-27 09:45:04 +0530</td>\n",
       "      <td>HKCategoryValueSleepAnalysisInBed</td>\n",
       "      <td>NaN</td>\n",
       "      <td>HKTimeZone</td>\n",
       "      <td>Asia/Kolkata</td>\n",
       "      <td>&lt;&lt;HKDevice: 0x1c46891a0&gt;, name:iPhone, manufac...</td>\n",
       "    </tr>\n",
       "  </tbody>\n",
       "</table>\n",
       "<p>5 rows × 22 columns</p>\n",
       "</div>"
      ],
      "text/plain": [
       "      HealthData locale  ExportDate value  Me  \\\n",
       "2659         NaN    NaN         NaN   NaN NaN   \n",
       "2660         NaN    NaN         NaN   NaN NaN   \n",
       "2661         NaN    NaN         NaN   NaN NaN   \n",
       "2662         NaN    NaN         NaN   NaN NaN   \n",
       "2663         NaN    NaN         NaN   NaN NaN   \n",
       "\n",
       "      HKCharacteristicTypeIdentifierDateOfBirth  \\\n",
       "2659                                        NaN   \n",
       "2660                                        NaN   \n",
       "2661                                        NaN   \n",
       "2662                                        NaN   \n",
       "2663                                        NaN   \n",
       "\n",
       "     HKCharacteristicTypeIdentifierBiologicalSex  \\\n",
       "2659                                         NaN   \n",
       "2660                                         NaN   \n",
       "2661                                         NaN   \n",
       "2662                                         NaN   \n",
       "2663                                         NaN   \n",
       "\n",
       "     HKCharacteristicTypeIdentifierBloodType  \\\n",
       "2659                                     NaN   \n",
       "2660                                     NaN   \n",
       "2661                                     NaN   \n",
       "2662                                     NaN   \n",
       "2663                                     NaN   \n",
       "\n",
       "     HKCharacteristicTypeIdentifierFitzpatrickSkinType  Record  \\\n",
       "2659                                               NaN     NaN   \n",
       "2660                                               NaN     NaN   \n",
       "2661                                               NaN     NaN   \n",
       "2662                                               NaN     NaN   \n",
       "2663                                               NaN     NaN   \n",
       "\n",
       "                            ...                         sourceVersion unit  \\\n",
       "2659                        ...                                  11.4  NaN   \n",
       "2660                        ...                                    50  NaN   \n",
       "2661                        ...                                    50  NaN   \n",
       "2662                        ...                                    50  NaN   \n",
       "2663                        ...                                    50  NaN   \n",
       "\n",
       "                   creationDate                  startDate  \\\n",
       "2659  2018-07-24 21:00:24 +0530  2018-07-24 03:00:00 +0530   \n",
       "2660  2018-07-25 10:00:38 +0530  2018-07-25 03:08:40 +0530   \n",
       "2661  2018-07-25 10:00:38 +0530  2018-07-25 09:35:32 +0530   \n",
       "2662  2018-07-26 10:14:05 +0530  2018-07-26 02:05:32 +0530   \n",
       "2663  2018-07-27 09:45:08 +0530  2018-07-27 01:30:00 +0530   \n",
       "\n",
       "                        endDate                            value.1  \\\n",
       "2659  2018-07-24 10:24:00 +0530  HKCategoryValueSleepAnalysisInBed   \n",
       "2660  2018-07-25 09:35:00 +0530  HKCategoryValueSleepAnalysisInBed   \n",
       "2661  2018-07-25 10:00:32 +0530  HKCategoryValueSleepAnalysisInBed   \n",
       "2662  2018-07-26 10:14:05 +0530  HKCategoryValueSleepAnalysisInBed   \n",
       "2663  2018-07-27 09:45:04 +0530  HKCategoryValueSleepAnalysisInBed   \n",
       "\n",
       "     MetadataEntry               key       value.2  \\\n",
       "2659           NaN  HKWasUserEntered             1   \n",
       "2660           NaN        HKTimeZone  Asia/Kolkata   \n",
       "2661           NaN        HKTimeZone  Asia/Kolkata   \n",
       "2662           NaN        HKTimeZone  Asia/Kolkata   \n",
       "2663           NaN        HKTimeZone  Asia/Kolkata   \n",
       "\n",
       "                                                 device  \n",
       "2659                                                NaN  \n",
       "2660  <<HKDevice: 0x1c4688f70>, name:iPhone, manufac...  \n",
       "2661  <<HKDevice: 0x1c46892e0>, name:iPhone, manufac...  \n",
       "2662  <<HKDevice: 0x1c4689100>, name:iPhone, manufac...  \n",
       "2663  <<HKDevice: 0x1c46891a0>, name:iPhone, manufac...  \n",
       "\n",
       "[5 rows x 22 columns]"
      ]
     },
     "execution_count": 2,
     "metadata": {},
     "output_type": "execute_result"
    }
   ],
   "source": [
    "df = pd.read_excel('export.xlsx')\n",
    "df.tail()"
   ]
  },
  {
   "cell_type": "code",
   "execution_count": 3,
   "metadata": {
    "collapsed": false
   },
   "outputs": [
    {
     "data": {
      "text/plain": [
       "Index(['HealthData', 'locale', 'ExportDate', 'value', 'Me',\n",
       "       'HKCharacteristicTypeIdentifierDateOfBirth',\n",
       "       'HKCharacteristicTypeIdentifierBiologicalSex',\n",
       "       'HKCharacteristicTypeIdentifierBloodType',\n",
       "       'HKCharacteristicTypeIdentifierFitzpatrickSkinType', 'Record', 'type',\n",
       "       'sourceName', 'sourceVersion', 'unit', 'creationDate', 'startDate',\n",
       "       'endDate', 'value.1', 'MetadataEntry', 'key', 'value.2', 'device'],\n",
       "      dtype='object')"
      ]
     },
     "execution_count": 3,
     "metadata": {},
     "output_type": "execute_result"
    }
   ],
   "source": [
    "df.columns"
   ]
  },
  {
   "cell_type": "code",
   "execution_count": 4,
   "metadata": {
    "collapsed": true
   },
   "outputs": [],
   "source": [
    "df2 = df[[ 'type', 'startDate',\n",
    "       'endDate', 'value.1', ]]"
   ]
  },
  {
   "cell_type": "code",
   "execution_count": 5,
   "metadata": {
    "collapsed": false
   },
   "outputs": [
    {
     "data": {
      "text/html": [
       "<div>\n",
       "<table border=\"1\" class=\"dataframe\">\n",
       "  <thead>\n",
       "    <tr style=\"text-align: right;\">\n",
       "      <th></th>\n",
       "      <th>type</th>\n",
       "      <th>startDate</th>\n",
       "      <th>endDate</th>\n",
       "      <th>value.1</th>\n",
       "    </tr>\n",
       "  </thead>\n",
       "  <tbody>\n",
       "    <tr>\n",
       "      <th>0</th>\n",
       "      <td>HKQuantityTypeIdentifierBodyMassIndex</td>\n",
       "      <td>2018-06-30 13:48:00 +0530</td>\n",
       "      <td>2018-06-30 13:48:00 +0530</td>\n",
       "      <td>23.04</td>\n",
       "    </tr>\n",
       "    <tr>\n",
       "      <th>1</th>\n",
       "      <td>HKQuantityTypeIdentifierHeight</td>\n",
       "      <td>2018-06-30 13:48:00 +0530</td>\n",
       "      <td>2018-06-30 13:48:00 +0530</td>\n",
       "      <td>178</td>\n",
       "    </tr>\n",
       "    <tr>\n",
       "      <th>2</th>\n",
       "      <td>HKQuantityTypeIdentifierBodyMass</td>\n",
       "      <td>2018-06-30 13:48:00 +0530</td>\n",
       "      <td>2018-06-30 13:48:00 +0530</td>\n",
       "      <td>73</td>\n",
       "    </tr>\n",
       "    <tr>\n",
       "      <th>3</th>\n",
       "      <td>HKQuantityTypeIdentifierStepCount</td>\n",
       "      <td>2018-06-21 18:50:42 +0530</td>\n",
       "      <td>2018-06-21 18:58:57 +0530</td>\n",
       "      <td>134</td>\n",
       "    </tr>\n",
       "    <tr>\n",
       "      <th>4</th>\n",
       "      <td>HKQuantityTypeIdentifierStepCount</td>\n",
       "      <td>2018-06-21 19:29:02 +0530</td>\n",
       "      <td>2018-06-21 19:38:24 +0530</td>\n",
       "      <td>101</td>\n",
       "    </tr>\n",
       "  </tbody>\n",
       "</table>\n",
       "</div>"
      ],
      "text/plain": [
       "                                    type                  startDate  \\\n",
       "0  HKQuantityTypeIdentifierBodyMassIndex  2018-06-30 13:48:00 +0530   \n",
       "1         HKQuantityTypeIdentifierHeight  2018-06-30 13:48:00 +0530   \n",
       "2       HKQuantityTypeIdentifierBodyMass  2018-06-30 13:48:00 +0530   \n",
       "3      HKQuantityTypeIdentifierStepCount  2018-06-21 18:50:42 +0530   \n",
       "4      HKQuantityTypeIdentifierStepCount  2018-06-21 19:29:02 +0530   \n",
       "\n",
       "                     endDate value.1  \n",
       "0  2018-06-30 13:48:00 +0530   23.04  \n",
       "1  2018-06-30 13:48:00 +0530     178  \n",
       "2  2018-06-30 13:48:00 +0530      73  \n",
       "3  2018-06-21 18:58:57 +0530     134  \n",
       "4  2018-06-21 19:38:24 +0530     101  "
      ]
     },
     "execution_count": 5,
     "metadata": {},
     "output_type": "execute_result"
    }
   ],
   "source": [
    "df2.head()"
   ]
  },
  {
   "cell_type": "code",
   "execution_count": 6,
   "metadata": {
    "collapsed": false
   },
   "outputs": [
    {
     "data": {
      "text/plain": [
       "array(['HKQuantityTypeIdentifierBodyMassIndex',\n",
       "       'HKQuantityTypeIdentifierHeight',\n",
       "       'HKQuantityTypeIdentifierBodyMass',\n",
       "       'HKQuantityTypeIdentifierStepCount',\n",
       "       'HKQuantityTypeIdentifierDistanceWalkingRunning',\n",
       "       'HKQuantityTypeIdentifierFlightsClimbed',\n",
       "       'HKQuantityTypeIdentifierWaistCircumference',\n",
       "       'HKCategoryTypeIdentifierSleepAnalysis'], dtype=object)"
      ]
     },
     "execution_count": 6,
     "metadata": {},
     "output_type": "execute_result"
    }
   ],
   "source": [
    "df2.type.unique()"
   ]
  },
  {
   "cell_type": "code",
   "execution_count": 7,
   "metadata": {
    "collapsed": true
   },
   "outputs": [],
   "source": [
    "df3 = df2[df2['type'].isin(['HKQuantityTypeIdentifierStepCount',\n",
    "       'HKQuantityTypeIdentifierDistanceWalkingRunning',\n",
    "       'HKQuantityTypeIdentifierFlightsClimbed',])]"
   ]
  },
  {
   "cell_type": "code",
   "execution_count": 8,
   "metadata": {
    "collapsed": false
   },
   "outputs": [
    {
     "data": {
      "text/html": [
       "<div>\n",
       "<table border=\"1\" class=\"dataframe\">\n",
       "  <thead>\n",
       "    <tr style=\"text-align: right;\">\n",
       "      <th></th>\n",
       "      <th>type</th>\n",
       "      <th>startDate</th>\n",
       "      <th>endDate</th>\n",
       "      <th>value.1</th>\n",
       "    </tr>\n",
       "  </thead>\n",
       "  <tbody>\n",
       "    <tr>\n",
       "      <th>3</th>\n",
       "      <td>HKQuantityTypeIdentifierStepCount</td>\n",
       "      <td>2018-06-21 18:50:42 +0530</td>\n",
       "      <td>2018-06-21 18:58:57 +0530</td>\n",
       "      <td>134</td>\n",
       "    </tr>\n",
       "    <tr>\n",
       "      <th>4</th>\n",
       "      <td>HKQuantityTypeIdentifierStepCount</td>\n",
       "      <td>2018-06-21 19:29:02 +0530</td>\n",
       "      <td>2018-06-21 19:38:24 +0530</td>\n",
       "      <td>101</td>\n",
       "    </tr>\n",
       "    <tr>\n",
       "      <th>5</th>\n",
       "      <td>HKQuantityTypeIdentifierStepCount</td>\n",
       "      <td>2018-06-21 19:38:24 +0530</td>\n",
       "      <td>2018-06-21 19:44:58 +0530</td>\n",
       "      <td>3</td>\n",
       "    </tr>\n",
       "    <tr>\n",
       "      <th>6</th>\n",
       "      <td>HKQuantityTypeIdentifierStepCount</td>\n",
       "      <td>2018-06-21 21:14:57 +0530</td>\n",
       "      <td>2018-06-21 21:21:04 +0530</td>\n",
       "      <td>2</td>\n",
       "    </tr>\n",
       "    <tr>\n",
       "      <th>7</th>\n",
       "      <td>HKQuantityTypeIdentifierStepCount</td>\n",
       "      <td>2018-06-21 21:21:04 +0530</td>\n",
       "      <td>2018-06-21 21:27:03 +0530</td>\n",
       "      <td>26</td>\n",
       "    </tr>\n",
       "  </tbody>\n",
       "</table>\n",
       "</div>"
      ],
      "text/plain": [
       "                                type                  startDate  \\\n",
       "3  HKQuantityTypeIdentifierStepCount  2018-06-21 18:50:42 +0530   \n",
       "4  HKQuantityTypeIdentifierStepCount  2018-06-21 19:29:02 +0530   \n",
       "5  HKQuantityTypeIdentifierStepCount  2018-06-21 19:38:24 +0530   \n",
       "6  HKQuantityTypeIdentifierStepCount  2018-06-21 21:14:57 +0530   \n",
       "7  HKQuantityTypeIdentifierStepCount  2018-06-21 21:21:04 +0530   \n",
       "\n",
       "                     endDate value.1  \n",
       "3  2018-06-21 18:58:57 +0530     134  \n",
       "4  2018-06-21 19:38:24 +0530     101  \n",
       "5  2018-06-21 19:44:58 +0530       3  \n",
       "6  2018-06-21 21:21:04 +0530       2  \n",
       "7  2018-06-21 21:27:03 +0530      26  "
      ]
     },
     "execution_count": 8,
     "metadata": {},
     "output_type": "execute_result"
    }
   ],
   "source": [
    "df3.head()"
   ]
  },
  {
   "cell_type": "code",
   "execution_count": 9,
   "metadata": {
    "collapsed": false
   },
   "outputs": [
    {
     "name": "stderr",
     "output_type": "stream",
     "text": [
      "C:\\Users\\priitish\\Anaconda3\\lib\\site-packages\\ipykernel\\__main__.py:4: SettingWithCopyWarning: \n",
      "A value is trying to be set on a copy of a slice from a DataFrame.\n",
      "Try using .loc[row_indexer,col_indexer] = value instead\n",
      "\n",
      "See the caveats in the documentation: http://pandas.pydata.org/pandas-docs/stable/indexing.html#indexing-view-versus-copy\n"
     ]
    },
    {
     "data": {
      "text/html": [
       "<div>\n",
       "<table border=\"1\" class=\"dataframe\">\n",
       "  <thead>\n",
       "    <tr style=\"text-align: right;\">\n",
       "      <th></th>\n",
       "      <th>type</th>\n",
       "      <th>startDate</th>\n",
       "      <th>endDate</th>\n",
       "      <th>value.1</th>\n",
       "    </tr>\n",
       "    <tr>\n",
       "      <th>datetime</th>\n",
       "      <th></th>\n",
       "      <th></th>\n",
       "      <th></th>\n",
       "      <th></th>\n",
       "    </tr>\n",
       "  </thead>\n",
       "  <tbody>\n",
       "    <tr>\n",
       "      <th>2018-06-21 18:50:42+05:30</th>\n",
       "      <td>HKQuantityTypeIdentifierStepCount</td>\n",
       "      <td>2018-06-21 18:50:42 +0530</td>\n",
       "      <td>2018-06-21 18:58:57 +0530</td>\n",
       "      <td>134</td>\n",
       "    </tr>\n",
       "    <tr>\n",
       "      <th>2018-06-21 19:29:02+05:30</th>\n",
       "      <td>HKQuantityTypeIdentifierStepCount</td>\n",
       "      <td>2018-06-21 19:29:02 +0530</td>\n",
       "      <td>2018-06-21 19:38:24 +0530</td>\n",
       "      <td>101</td>\n",
       "    </tr>\n",
       "    <tr>\n",
       "      <th>2018-06-21 19:38:24+05:30</th>\n",
       "      <td>HKQuantityTypeIdentifierStepCount</td>\n",
       "      <td>2018-06-21 19:38:24 +0530</td>\n",
       "      <td>2018-06-21 19:44:58 +0530</td>\n",
       "      <td>3</td>\n",
       "    </tr>\n",
       "    <tr>\n",
       "      <th>2018-06-21 21:14:57+05:30</th>\n",
       "      <td>HKQuantityTypeIdentifierStepCount</td>\n",
       "      <td>2018-06-21 21:14:57 +0530</td>\n",
       "      <td>2018-06-21 21:21:04 +0530</td>\n",
       "      <td>2</td>\n",
       "    </tr>\n",
       "    <tr>\n",
       "      <th>2018-06-21 21:21:04+05:30</th>\n",
       "      <td>HKQuantityTypeIdentifierStepCount</td>\n",
       "      <td>2018-06-21 21:21:04 +0530</td>\n",
       "      <td>2018-06-21 21:27:03 +0530</td>\n",
       "      <td>26</td>\n",
       "    </tr>\n",
       "  </tbody>\n",
       "</table>\n",
       "</div>"
      ],
      "text/plain": [
       "                                                        type  \\\n",
       "datetime                                                       \n",
       "2018-06-21 18:50:42+05:30  HKQuantityTypeIdentifierStepCount   \n",
       "2018-06-21 19:29:02+05:30  HKQuantityTypeIdentifierStepCount   \n",
       "2018-06-21 19:38:24+05:30  HKQuantityTypeIdentifierStepCount   \n",
       "2018-06-21 21:14:57+05:30  HKQuantityTypeIdentifierStepCount   \n",
       "2018-06-21 21:21:04+05:30  HKQuantityTypeIdentifierStepCount   \n",
       "\n",
       "                                           startDate  \\\n",
       "datetime                                               \n",
       "2018-06-21 18:50:42+05:30  2018-06-21 18:50:42 +0530   \n",
       "2018-06-21 19:29:02+05:30  2018-06-21 19:29:02 +0530   \n",
       "2018-06-21 19:38:24+05:30  2018-06-21 19:38:24 +0530   \n",
       "2018-06-21 21:14:57+05:30  2018-06-21 21:14:57 +0530   \n",
       "2018-06-21 21:21:04+05:30  2018-06-21 21:21:04 +0530   \n",
       "\n",
       "                                             endDate value.1  \n",
       "datetime                                                      \n",
       "2018-06-21 18:50:42+05:30  2018-06-21 18:58:57 +0530     134  \n",
       "2018-06-21 19:29:02+05:30  2018-06-21 19:38:24 +0530     101  \n",
       "2018-06-21 19:38:24+05:30  2018-06-21 19:44:58 +0530       3  \n",
       "2018-06-21 21:14:57+05:30  2018-06-21 21:21:04 +0530       2  \n",
       "2018-06-21 21:21:04+05:30  2018-06-21 21:27:03 +0530      26  "
      ]
     },
     "execution_count": 9,
     "metadata": {},
     "output_type": "execute_result"
    }
   ],
   "source": [
    "def timestamp(x):\n",
    "    return pd.Timestamp(x)\n",
    "\n",
    "df3['datetime'] = df3['startDate'].apply(timestamp)\n",
    "df3.index = df3['datetime']\n",
    "del df3['datetime']\n",
    "df3.head()"
   ]
  },
  {
   "cell_type": "code",
   "execution_count": 10,
   "metadata": {
    "collapsed": true
   },
   "outputs": [],
   "source": [
    "step_count = df3[df3.type == 'HKQuantityTypeIdentifierStepCount'].drop('type', axis=1)\n",
    "walk = df3[df3.type == 'HKQuantityTypeIdentifierDistanceWalkingRunning'].drop('type', axis=1)"
   ]
  },
  {
   "cell_type": "code",
   "execution_count": 11,
   "metadata": {
    "collapsed": false
   },
   "outputs": [
    {
     "data": {
      "text/html": [
       "<div>\n",
       "<table border=\"1\" class=\"dataframe\">\n",
       "  <thead>\n",
       "    <tr style=\"text-align: right;\">\n",
       "      <th></th>\n",
       "      <th>startDate</th>\n",
       "      <th>endDate</th>\n",
       "      <th>value.1</th>\n",
       "    </tr>\n",
       "    <tr>\n",
       "      <th>datetime</th>\n",
       "      <th></th>\n",
       "      <th></th>\n",
       "      <th></th>\n",
       "    </tr>\n",
       "  </thead>\n",
       "  <tbody>\n",
       "    <tr>\n",
       "      <th>2018-06-21 18:50:42+05:30</th>\n",
       "      <td>2018-06-21 18:50:42 +0530</td>\n",
       "      <td>2018-06-21 18:58:57 +0530</td>\n",
       "      <td>0.09989</td>\n",
       "    </tr>\n",
       "    <tr>\n",
       "      <th>2018-06-21 19:29:02+05:30</th>\n",
       "      <td>2018-06-21 19:29:02 +0530</td>\n",
       "      <td>2018-06-21 19:38:24 +0530</td>\n",
       "      <td>0.07146</td>\n",
       "    </tr>\n",
       "    <tr>\n",
       "      <th>2018-06-21 19:38:24+05:30</th>\n",
       "      <td>2018-06-21 19:38:24 +0530</td>\n",
       "      <td>2018-06-21 19:44:58 +0530</td>\n",
       "      <td>0.00165</td>\n",
       "    </tr>\n",
       "    <tr>\n",
       "      <th>2018-06-21 21:14:57+05:30</th>\n",
       "      <td>2018-06-21 21:14:57 +0530</td>\n",
       "      <td>2018-06-21 21:21:04 +0530</td>\n",
       "      <td>0.00138</td>\n",
       "    </tr>\n",
       "    <tr>\n",
       "      <th>2018-06-21 21:21:04+05:30</th>\n",
       "      <td>2018-06-21 21:21:04 +0530</td>\n",
       "      <td>2018-06-21 21:27:03 +0530</td>\n",
       "      <td>0.01794</td>\n",
       "    </tr>\n",
       "  </tbody>\n",
       "</table>\n",
       "</div>"
      ],
      "text/plain": [
       "                                           startDate  \\\n",
       "datetime                                               \n",
       "2018-06-21 18:50:42+05:30  2018-06-21 18:50:42 +0530   \n",
       "2018-06-21 19:29:02+05:30  2018-06-21 19:29:02 +0530   \n",
       "2018-06-21 19:38:24+05:30  2018-06-21 19:38:24 +0530   \n",
       "2018-06-21 21:14:57+05:30  2018-06-21 21:14:57 +0530   \n",
       "2018-06-21 21:21:04+05:30  2018-06-21 21:21:04 +0530   \n",
       "\n",
       "                                             endDate  value.1  \n",
       "datetime                                                       \n",
       "2018-06-21 18:50:42+05:30  2018-06-21 18:58:57 +0530  0.09989  \n",
       "2018-06-21 19:29:02+05:30  2018-06-21 19:38:24 +0530  0.07146  \n",
       "2018-06-21 19:38:24+05:30  2018-06-21 19:44:58 +0530  0.00165  \n",
       "2018-06-21 21:14:57+05:30  2018-06-21 21:21:04 +0530  0.00138  \n",
       "2018-06-21 21:21:04+05:30  2018-06-21 21:27:03 +0530  0.01794  "
      ]
     },
     "execution_count": 11,
     "metadata": {},
     "output_type": "execute_result"
    }
   ],
   "source": [
    "walk.head()"
   ]
  },
  {
   "cell_type": "code",
   "execution_count": 32,
   "metadata": {
    "collapsed": false
   },
   "outputs": [
    {
     "name": "stderr",
     "output_type": "stream",
     "text": [
      "C:\\Users\\priitish\\Anaconda3\\lib\\site-packages\\pandas\\indexes\\api.py:71: RuntimeWarning: unorderable types: str() < int(), sort order is undefined for incomparable objects\n",
      "  result = result.union(other)\n"
     ]
    }
   ],
   "source": [
    "''' only July data'''\n",
    "walk = walk['7-2018']\n",
    "\n",
    "'''Getting Hourly Data'''\n",
    "num_days = len(np.unique(walk.index.date))\n",
    "walk_hour = walk.groupby([walk.index.hour]).sum()*1000\n",
    "walk_hour['value.1'] = walk_hour['value.1']/num_days\n",
    "walk_hour.index = walk_hour.index.astype(int)\n",
    "\n",
    "\n",
    "'''adding missing hours'''\n",
    "missing_hours_list = np.setdiff1d(range(24),walk_hour.index.values)\n",
    "missing_hours = pd.DataFrame(np.zeros(len(missing_hours_list)))\n",
    "missing_hours.set_index(missing_hours_list, inplace=True)\n",
    "                       \n",
    "walk_hour = pd.concat([walk_hour, missing_hours]).sort_index(ascending=True)\n",
    "walk_hour.fillna(0, inplace=True)\n",
    "# walk_hour.drop(0, inplace=True)\n"
   ]
  },
  {
   "cell_type": "code",
   "execution_count": 44,
   "metadata": {
    "collapsed": false
   },
   "outputs": [
    {
     "data": {
      "text/plain": [
       "<matplotlib.text.Annotation at 0x14dfa650978>"
      ]
     },
     "execution_count": 44,
     "metadata": {},
     "output_type": "execute_result"
    },
    {
     "data": {
      "image/png": "[encoded data removed]",
      "text/plain": [
       "<matplotlib.figure.Figure at 0x14dfa513390>"
      ]
     },
     "metadata": {},
     "output_type": "display_data"
    }
   ],
   "source": [
    "ax = walk_hour.plot(kind='bar', width =1, legend=False, figsize=(12,6.75))\n",
    "plt.xlabel('Hours')\n",
    "plt.title('Average Metres Walked by Hour')\n",
    "xticks = list(walk_hour.index.values -0.75)\n",
    "plt.xticks(xticks)\n",
    "\n",
    "ax.annotate('Leave for office',(walk_hour.index[11], walk_hour['value.1'][11]), xytext=(0.42, 0.9), textcoords='axes fraction',\n",
    "            arrowprops=dict(facecolor='black', shrink=0.05), horizontalalignment='right', verticalalignment='top' ) \n",
    "\n",
    "ax.annotate('Leave for home',(walk_hour.index[20], walk_hour['value.1'][20]), xytext=(0.8, 0.99), textcoords='axes fraction', xycoords='data'\n",
    "            ,arrowprops=dict(facecolor='black', shrink=0.05), horizontalalignment='right', verticalalignment='top' )\n",
    "# ax.annotate('',(0.25,.15), xytext=(0.25, 0.1), textcoords='axes fraction', xycoords='axes fraction',\n",
    "#             horizontalalignment='right', verticalalignment='top' ,arrowprops=dict(arrowstyle =  '|-|', facecolor ='black'))\n",
    "\n",
    "ax.annotate('Sleep\\nTime', xy=(walk_hour.index[4], walk_hour['value.1'][4]), xytext=(0.25,0.15),  textcoords='axes fraction',\n",
    "            horizontalalignment='right', verticalalignment='top' )\n",
    "\n",
    "ax.annotate('Office\\nTime', xy=(walk_hour.index[14], walk_hour['value.1'][14]), xytext=(0.64,0.45),  textcoords='axes fraction',\n",
    "            horizontalalignment='right', verticalalignment='top' )\n",
    "# plt.show()\n"
   ]
  },
  {
   "cell_type": "code",
   "execution_count": 16,
   "metadata": {
    "collapsed": false
   },
   "outputs": [
    {
     "data": {
      "text/plain": [
       "28"
      ]
     },
     "execution_count": 16,
     "metadata": {},
     "output_type": "execute_result"
    }
   ],
   "source": [
    "num_days"
   ]
  },
  {
   "cell_type": "code",
   "execution_count": 17,
   "metadata": {
    "collapsed": false
   },
   "outputs": [
    {
     "data": {
      "text/plain": [
       "startDate     object\n",
       "endDate       object\n",
       "value.1      float64\n",
       "0            float64\n",
       "dtype: object"
      ]
     },
     "execution_count": 17,
     "metadata": {},
     "output_type": "execute_result"
    }
   ],
   "source": [
    "walk_hour.dtypes"
   ]
  },
  {
   "cell_type": "code",
   "execution_count": 22,
   "metadata": {
    "collapsed": false
   },
   "outputs": [
    {
     "data": {
      "text/html": [
       "<div>\n",
       "<table border=\"1\" class=\"dataframe\">\n",
       "  <thead>\n",
       "    <tr style=\"text-align: right;\">\n",
       "      <th></th>\n",
       "      <th>startDate</th>\n",
       "      <th>endDate</th>\n",
       "      <th>value.1</th>\n",
       "      <th>0</th>\n",
       "    </tr>\n",
       "  </thead>\n",
       "  <tbody>\n",
       "    <tr>\n",
       "      <th>1</th>\n",
       "      <td>2018-07-07 01:35:39 +05302018-07-10 01:03:54 +...</td>\n",
       "      <td>2018-07-07 01:44:10 +05302018-07-10 01:10:19 +...</td>\n",
       "      <td>22.124286</td>\n",
       "      <td>0.0</td>\n",
       "    </tr>\n",
       "    <tr>\n",
       "      <th>2</th>\n",
       "      <td>2018-07-01 02:11:00 +05302018-07-20 02:19:03 +...</td>\n",
       "      <td>2018-07-01 02:17:26 +05302018-07-20 02:25:11 +...</td>\n",
       "      <td>1.746786</td>\n",
       "      <td>0.0</td>\n",
       "    </tr>\n",
       "    <tr>\n",
       "      <th>3</th>\n",
       "      <td>2018-07-14 03:24:23 +05302018-07-18 03:53:02 +...</td>\n",
       "      <td>2018-07-14 03:30:28 +05302018-07-18 03:59:15 +...</td>\n",
       "      <td>0.713214</td>\n",
       "      <td>0.0</td>\n",
       "    </tr>\n",
       "    <tr>\n",
       "      <th>4</th>\n",
       "      <td>2018-07-21 04:05:18 +05302018-07-21 04:05:18 +...</td>\n",
       "      <td>2018-07-21 04:11:29 +05302018-07-21 04:11:29 +...</td>\n",
       "      <td>0.425000</td>\n",
       "      <td>0.0</td>\n",
       "    </tr>\n",
       "    <tr>\n",
       "      <th>5</th>\n",
       "      <td>0</td>\n",
       "      <td>0</td>\n",
       "      <td>0.000000</td>\n",
       "      <td>0.0</td>\n",
       "    </tr>\n",
       "    <tr>\n",
       "      <th>6</th>\n",
       "      <td>0</td>\n",
       "      <td>0</td>\n",
       "      <td>0.000000</td>\n",
       "      <td>0.0</td>\n",
       "    </tr>\n",
       "    <tr>\n",
       "      <th>7</th>\n",
       "      <td>0</td>\n",
       "      <td>0</td>\n",
       "      <td>0.000000</td>\n",
       "      <td>0.0</td>\n",
       "    </tr>\n",
       "    <tr>\n",
       "      <th>8</th>\n",
       "      <td>0</td>\n",
       "      <td>0</td>\n",
       "      <td>0.000000</td>\n",
       "      <td>0.0</td>\n",
       "    </tr>\n",
       "    <tr>\n",
       "      <th>9</th>\n",
       "      <td>2018-07-02 09:29:35 +05302018-07-02 09:42:03 +...</td>\n",
       "      <td>2018-07-02 09:36:19 +05302018-07-02 09:48:16 +...</td>\n",
       "      <td>11.739643</td>\n",
       "      <td>0.0</td>\n",
       "    </tr>\n",
       "    <tr>\n",
       "      <th>10</th>\n",
       "      <td>2018-07-02 10:05:37 +05302018-07-02 10:13:36 +...</td>\n",
       "      <td>2018-07-02 10:13:36 +05302018-07-02 10:20:22 +...</td>\n",
       "      <td>135.582679</td>\n",
       "      <td>0.0</td>\n",
       "    </tr>\n",
       "    <tr>\n",
       "      <th>11</th>\n",
       "      <td>2018-07-01 11:28:57 +05302018-07-01 11:37:03 +...</td>\n",
       "      <td>2018-07-01 11:37:03 +05302018-07-01 11:46:41 +...</td>\n",
       "      <td>500.921821</td>\n",
       "      <td>0.0</td>\n",
       "    </tr>\n",
       "    <tr>\n",
       "      <th>12</th>\n",
       "      <td>2018-07-01 12:02:22 +05302018-07-01 12:12:20 +...</td>\n",
       "      <td>2018-07-01 12:12:20 +05302018-07-01 12:22:17 +...</td>\n",
       "      <td>165.342629</td>\n",
       "      <td>0.0</td>\n",
       "    </tr>\n",
       "    <tr>\n",
       "      <th>13</th>\n",
       "      <td>2018-07-01 13:05:30 +05302018-07-01 13:15:29 +...</td>\n",
       "      <td>2018-07-01 13:15:29 +05302018-07-01 13:19:32 +...</td>\n",
       "      <td>137.183929</td>\n",
       "      <td>0.0</td>\n",
       "    </tr>\n",
       "    <tr>\n",
       "      <th>14</th>\n",
       "      <td>2018-07-01 14:14:00 +05302018-07-01 14:23:58 +...</td>\n",
       "      <td>2018-07-01 14:23:58 +05302018-07-01 14:33:43 +...</td>\n",
       "      <td>157.305357</td>\n",
       "      <td>0.0</td>\n",
       "    </tr>\n",
       "    <tr>\n",
       "      <th>15</th>\n",
       "      <td>2018-07-01 15:03:00 +05302018-07-01 15:18:01 +...</td>\n",
       "      <td>2018-07-01 15:12:59 +05302018-07-01 15:26:48 +...</td>\n",
       "      <td>104.311071</td>\n",
       "      <td>0.0</td>\n",
       "    </tr>\n",
       "    <tr>\n",
       "      <th>16</th>\n",
       "      <td>2018-07-01 16:01:25 +05302018-07-01 16:36:49 +...</td>\n",
       "      <td>2018-07-01 16:05:49 +05302018-07-01 16:44:09 +...</td>\n",
       "      <td>111.115000</td>\n",
       "      <td>0.0</td>\n",
       "    </tr>\n",
       "    <tr>\n",
       "      <th>17</th>\n",
       "      <td>2018-07-01 17:33:16 +05302018-07-01 17:40:59 +...</td>\n",
       "      <td>2018-07-01 17:40:59 +05302018-07-01 17:50:28 +...</td>\n",
       "      <td>164.700357</td>\n",
       "      <td>0.0</td>\n",
       "    </tr>\n",
       "    <tr>\n",
       "      <th>18</th>\n",
       "      <td>2018-07-01 18:00:23 +05302018-07-01 18:10:18 +...</td>\n",
       "      <td>2018-07-01 18:10:18 +05302018-07-01 18:18:53 +...</td>\n",
       "      <td>297.155000</td>\n",
       "      <td>0.0</td>\n",
       "    </tr>\n",
       "    <tr>\n",
       "      <th>19</th>\n",
       "      <td>2018-07-01 19:06:15 +05302018-07-02 19:04:48 +...</td>\n",
       "      <td>2018-07-01 19:14:35 +05302018-07-02 19:08:22 +...</td>\n",
       "      <td>542.498857</td>\n",
       "      <td>0.0</td>\n",
       "    </tr>\n",
       "    <tr>\n",
       "      <th>20</th>\n",
       "      <td>2018-07-01 20:37:10 +05302018-07-01 20:47:08 +...</td>\n",
       "      <td>2018-07-01 20:47:08 +05302018-07-01 20:49:25 +...</td>\n",
       "      <td>655.417000</td>\n",
       "      <td>0.0</td>\n",
       "    </tr>\n",
       "    <tr>\n",
       "      <th>21</th>\n",
       "      <td>2018-07-01 21:07:17 +05302018-07-01 21:30:08 +...</td>\n",
       "      <td>2018-07-01 21:13:28 +05302018-07-01 21:38:38 +...</td>\n",
       "      <td>417.421750</td>\n",
       "      <td>0.0</td>\n",
       "    </tr>\n",
       "    <tr>\n",
       "      <th>22</th>\n",
       "      <td>2018-07-01 22:16:41 +05302018-07-01 22:36:35 +...</td>\n",
       "      <td>2018-07-01 22:26:20 +05302018-07-01 22:42:45 +...</td>\n",
       "      <td>65.007500</td>\n",
       "      <td>0.0</td>\n",
       "    </tr>\n",
       "    <tr>\n",
       "      <th>23</th>\n",
       "      <td>2018-07-02 23:05:04 +05302018-07-02 23:11:27 +...</td>\n",
       "      <td>2018-07-02 23:11:27 +05302018-07-02 23:19:35 +...</td>\n",
       "      <td>72.017714</td>\n",
       "      <td>0.0</td>\n",
       "    </tr>\n",
       "  </tbody>\n",
       "</table>\n",
       "</div>"
      ],
      "text/plain": [
       "                                            startDate  \\\n",
       "1   2018-07-07 01:35:39 +05302018-07-10 01:03:54 +...   \n",
       "2   2018-07-01 02:11:00 +05302018-07-20 02:19:03 +...   \n",
       "3   2018-07-14 03:24:23 +05302018-07-18 03:53:02 +...   \n",
       "4   2018-07-21 04:05:18 +05302018-07-21 04:05:18 +...   \n",
       "5                                                   0   \n",
       "6                                                   0   \n",
       "7                                                   0   \n",
       "8                                                   0   \n",
       "9   2018-07-02 09:29:35 +05302018-07-02 09:42:03 +...   \n",
       "10  2018-07-02 10:05:37 +05302018-07-02 10:13:36 +...   \n",
       "11  2018-07-01 11:28:57 +05302018-07-01 11:37:03 +...   \n",
       "12  2018-07-01 12:02:22 +05302018-07-01 12:12:20 +...   \n",
       "13  2018-07-01 13:05:30 +05302018-07-01 13:15:29 +...   \n",
       "14  2018-07-01 14:14:00 +05302018-07-01 14:23:58 +...   \n",
       "15  2018-07-01 15:03:00 +05302018-07-01 15:18:01 +...   \n",
       "16  2018-07-01 16:01:25 +05302018-07-01 16:36:49 +...   \n",
       "17  2018-07-01 17:33:16 +05302018-07-01 17:40:59 +...   \n",
       "18  2018-07-01 18:00:23 +05302018-07-01 18:10:18 +...   \n",
       "19  2018-07-01 19:06:15 +05302018-07-02 19:04:48 +...   \n",
       "20  2018-07-01 20:37:10 +05302018-07-01 20:47:08 +...   \n",
       "21  2018-07-01 21:07:17 +05302018-07-01 21:30:08 +...   \n",
       "22  2018-07-01 22:16:41 +05302018-07-01 22:36:35 +...   \n",
       "23  2018-07-02 23:05:04 +05302018-07-02 23:11:27 +...   \n",
       "\n",
       "                                              endDate     value.1    0  \n",
       "1   2018-07-07 01:44:10 +05302018-07-10 01:10:19 +...   22.124286  0.0  \n",
       "2   2018-07-01 02:17:26 +05302018-07-20 02:25:11 +...    1.746786  0.0  \n",
       "3   2018-07-14 03:30:28 +05302018-07-18 03:59:15 +...    0.713214  0.0  \n",
       "4   2018-07-21 04:11:29 +05302018-07-21 04:11:29 +...    0.425000  0.0  \n",
       "5                                                   0    0.000000  0.0  \n",
       "6                                                   0    0.000000  0.0  \n",
       "7                                                   0    0.000000  0.0  \n",
       "8                                                   0    0.000000  0.0  \n",
       "9   2018-07-02 09:36:19 +05302018-07-02 09:48:16 +...   11.739643  0.0  \n",
       "10  2018-07-02 10:13:36 +05302018-07-02 10:20:22 +...  135.582679  0.0  \n",
       "11  2018-07-01 11:37:03 +05302018-07-01 11:46:41 +...  500.921821  0.0  \n",
       "12  2018-07-01 12:12:20 +05302018-07-01 12:22:17 +...  165.342629  0.0  \n",
       "13  2018-07-01 13:15:29 +05302018-07-01 13:19:32 +...  137.183929  0.0  \n",
       "14  2018-07-01 14:23:58 +05302018-07-01 14:33:43 +...  157.305357  0.0  \n",
       "15  2018-07-01 15:12:59 +05302018-07-01 15:26:48 +...  104.311071  0.0  \n",
       "16  2018-07-01 16:05:49 +05302018-07-01 16:44:09 +...  111.115000  0.0  \n",
       "17  2018-07-01 17:40:59 +05302018-07-01 17:50:28 +...  164.700357  0.0  \n",
       "18  2018-07-01 18:10:18 +05302018-07-01 18:18:53 +...  297.155000  0.0  \n",
       "19  2018-07-01 19:14:35 +05302018-07-02 19:08:22 +...  542.498857  0.0  \n",
       "20  2018-07-01 20:47:08 +05302018-07-01 20:49:25 +...  655.417000  0.0  \n",
       "21  2018-07-01 21:13:28 +05302018-07-01 21:38:38 +...  417.421750  0.0  \n",
       "22  2018-07-01 22:26:20 +05302018-07-01 22:42:45 +...   65.007500  0.0  \n",
       "23  2018-07-02 23:11:27 +05302018-07-02 23:19:35 +...   72.017714  0.0  "
      ]
     },
     "execution_count": 22,
     "metadata": {},
     "output_type": "execute_result"
    }
   ],
   "source": [
    "walk_hour"
   ]
  },
  {
   "cell_type": "code",
   "execution_count": null,
   "metadata": {
    "collapsed": true
   },
   "outputs": [],
   "source": []
  }
 ],
 "metadata": {
  "anaconda-cloud": {},
  "kernelspec": {
   "display_name": "Python [default]",
   "language": "python",
   "name": "python3"
  },
  "language_info": {
   "codemirror_mode": {
    "name": "ipython",
    "version": 3
   },
   "file_extension": ".py",
   "mimetype": "text/x-python",
   "name": "python",
   "nbconvert_exporter": "python",
   "pygments_lexer": "ipython3",
   "version": "3.5.2"
  }
 },
 "nbformat": 4,
 "nbformat_minor": 2
}
